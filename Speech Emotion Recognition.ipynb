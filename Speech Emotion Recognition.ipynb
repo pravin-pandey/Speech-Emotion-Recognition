{
 "cells": [
  {
   "cell_type": "markdown",
   "metadata": {},
   "source": [
    "Importing the reqiured libraries"
   ]
  },
  {
   "cell_type": "code",
   "execution_count": 1,
   "metadata": {},
   "outputs": [],
   "source": [
    "import librosa\n",
    "import soundfile\n",
    "import os,glob,pickle\n",
    "import numpy as np\n",
    "from sklearn.model_selection import train_test_split\n",
    "from sklearn.neural_network import MLPClassifier\n",
    "from sklearn.metrics import accuracy_score "
   ]
  },
  {
   "cell_type": "markdown",
   "metadata": {},
   "source": [
    "Feature extraction"
   ]
  },
  {
   "cell_type": "code",
   "execution_count": 2,
   "metadata": {},
   "outputs": [],
   "source": [
    "def extract_feature(file_name, mfcc, chroma, mel):\n",
    "    with soundfile.SoundFile(file_name) as sound_file:\n",
    "        X= sound_file.read(dtype= \"float32\")\n",
    "        sample_rate=sound_file.samplerate\n",
    "        if chroma:\n",
    "            stft = np.abs(librosa.stft(X))\n",
    "        result= np.array([])\n",
    "        if mfcc:\n",
    "            mfccs= np.mean(librosa.feature.mfcc(y=X, sr=sample_rate,n_mfcc=40).T, axis=0)\n",
    "            result= np.hstack((result,mfccs))\n",
    "        if chroma:\n",
    "            chroma=np.mean(librosa.feature.mfcc(y=X, sr=sample_rate,n_mfcc=40).T, axis=0)\n",
    "            result= np.hstack((result,chroma))\n",
    "        if mel:\n",
    "            mel=np.mean(librosa.feature.melspectrogram(X, sr=sample_rate).T, axis=0)\n",
    "            result= np.hstack((result,mel))\n",
    "    return result"
   ]
  },
  {
   "cell_type": "markdown",
   "metadata": {},
   "source": [
    "Defining a dictionary to hold numbers and the emotions "
   ]
  },
  {
   "cell_type": "code",
   "execution_count": 66,
   "metadata": {},
   "outputs": [],
   "source": [
    "emotions ={\n",
    "    '01': 'neutral',\n",
    "    '02' : 'calm',\n",
    "    '03' : 'happy',\n",
    "    '04' : 'sad',\n",
    "    '05' : 'angry',\n",
    "    '06' : 'fearful',\n",
    "    '07' : 'disgust',\n",
    "    '08' : 'surprised'\n",
    "}\n",
    "observed_emotions=['calm','happy','fearful','disgust']\n"
   ]
  },
  {
   "cell_type": "markdown",
   "metadata": {},
   "source": [
    "Loading data using load_data() and using glob() function to get pathnames for the sound files"
   ]
  },
  {
   "cell_type": "code",
   "execution_count": 67,
   "metadata": {},
   "outputs": [],
   "source": [
    "def load_data(test_size=0.2):\n",
    "    x,y=[],[]\n",
    "    for file in glob.glob(\"G:\\\\Project\\\\speech-emotion-recognition-ravdess-data\\\\Actor_*\\\\*.wav\"):\n",
    "        file_name= os.path.basename(file)\n",
    "        emotion=emotions[file_name.split(\"-\")[2]]\n",
    "        if emotion not in observed_emotions:\n",
    "            continue\n",
    "        feature= extract_feature(file,mfcc=True, chroma= True, mel= True)\n",
    "        x.append(feature)\n",
    "        y.append(emotion)\n",
    "    return train_test_split(np.array(x),y, test_size=test_size, random_state= 9)"
   ]
  },
  {
   "cell_type": "markdown",
   "metadata": {},
   "source": [
    "Spliting of dataset into training and test set (Test set is 25% of the whole dataset) using load_data function"
   ]
  },
  {
   "cell_type": "code",
   "execution_count": 81,
   "metadata": {},
   "outputs": [],
   "source": [
    "x_train, x_test, y_train, y_test = load_data(test_size= 0.25)"
   ]
  },
  {
   "cell_type": "code",
   "execution_count": 82,
   "metadata": {},
   "outputs": [
    {
     "name": "stdout",
     "output_type": "stream",
     "text": [
      "(384, 384)\n"
     ]
    }
   ],
   "source": [
    "print((x_train.shape[0], x_test.shape[0]))"
   ]
  },
  {
   "cell_type": "code",
   "execution_count": 83,
   "metadata": {},
   "outputs": [
    {
     "name": "stdout",
     "output_type": "stream",
     "text": [
      "feature extracted:208\n"
     ]
    }
   ],
   "source": [
    "print(f'feature extracted:{x_train.shape[1]}')"
   ]
  },
  {
   "cell_type": "markdown",
   "metadata": {},
   "source": [
    "Initializing a Multi-layer Perceptron Classifer"
   ]
  },
  {
   "cell_type": "code",
   "execution_count": 84,
   "metadata": {},
   "outputs": [],
   "source": [
    "model = MLPClassifier(alpha=0.01,\n",
    "                      batch_size=256, \n",
    "                      epsilon= 1e-08,\n",
    "                      hidden_layer_sizes=(300,), \n",
    "                      learning_rate='adaptive',\n",
    "                      max_iter=500)"
   ]
  },
  {
   "cell_type": "markdown",
   "metadata": {},
   "source": [
    "Fit/train the model"
   ]
  },
  {
   "cell_type": "code",
   "execution_count": 85,
   "metadata": {},
   "outputs": [
    {
     "name": "stderr",
     "output_type": "stream",
     "text": [
      "C:\\Users\\chett\\Anaconda3\\lib\\site-packages\\sklearn\\neural_network\\multilayer_perceptron.py:566: ConvergenceWarning: Stochastic Optimizer: Maximum iterations (500) reached and the optimization hasn't converged yet.\n",
      "  % self.max_iter, ConvergenceWarning)\n"
     ]
    },
    {
     "data": {
      "text/plain": [
       "MLPClassifier(activation='relu', alpha=0.01, batch_size=256, beta_1=0.9,\n",
       "              beta_2=0.999, early_stopping=False, epsilon=1e-08,\n",
       "              hidden_layer_sizes=(300,), learning_rate='adaptive',\n",
       "              learning_rate_init=0.001, max_iter=500, momentum=0.9,\n",
       "              n_iter_no_change=10, nesterovs_momentum=True, power_t=0.5,\n",
       "              random_state=None, shuffle=True, solver='adam', tol=0.0001,\n",
       "              validation_fraction=0.1, verbose=False, warm_start=False)"
      ]
     },
     "execution_count": 85,
     "metadata": {},
     "output_type": "execute_result"
    }
   ],
   "source": [
    "model.fit(x_train, y_train)"
   ]
  },
  {
   "cell_type": "markdown",
   "metadata": {},
   "source": [
    "Predicting values of the tets set"
   ]
  },
  {
   "cell_type": "code",
   "execution_count": 86,
   "metadata": {},
   "outputs": [],
   "source": [
    "y_pred= model.predict(x_test)"
   ]
  },
  {
   "cell_type": "code",
   "execution_count": 87,
   "metadata": {},
   "outputs": [
    {
     "data": {
      "text/plain": [
       "array(['happy', 'fearful', 'happy', 'happy', 'fearful', 'calm', 'disgust',\n",
       "       'disgust', 'disgust', 'happy', 'fearful', 'fearful', 'fearful',\n",
       "       'happy', 'disgust', 'happy', 'calm', 'happy', 'happy', 'fearful',\n",
       "       'calm', 'disgust', 'disgust', 'calm', 'fearful', 'happy', 'happy',\n",
       "       'happy', 'fearful', 'happy', 'happy', 'disgust', 'happy',\n",
       "       'fearful', 'disgust', 'calm', 'calm', 'fearful', 'calm', 'calm',\n",
       "       'happy', 'calm', 'calm', 'calm', 'fearful', 'calm', 'disgust',\n",
       "       'disgust', 'calm', 'happy', 'fearful', 'fearful', 'fearful',\n",
       "       'fearful', 'happy', 'fearful', 'disgust', 'happy', 'calm', 'calm',\n",
       "       'disgust', 'calm', 'fearful', 'calm', 'happy', 'calm', 'calm',\n",
       "       'disgust', 'fearful', 'happy', 'fearful', 'fearful', 'fearful',\n",
       "       'fearful', 'fearful', 'disgust', 'fearful', 'happy', 'calm',\n",
       "       'fearful', 'disgust', 'calm', 'fearful', 'calm', 'disgust', 'calm',\n",
       "       'disgust', 'fearful', 'disgust', 'fearful', 'disgust', 'disgust',\n",
       "       'calm', 'fearful', 'disgust', 'fearful', 'calm', 'calm', 'calm',\n",
       "       'happy', 'fearful', 'fearful', 'calm', 'fearful', 'disgust',\n",
       "       'calm', 'disgust', 'happy', 'fearful', 'happy', 'happy', 'calm',\n",
       "       'fearful', 'fearful', 'fearful', 'calm', 'calm', 'happy', 'calm',\n",
       "       'fearful', 'happy', 'calm', 'calm', 'happy', 'fearful', 'calm',\n",
       "       'disgust', 'happy', 'calm', 'calm', 'fearful', 'fearful', 'happy',\n",
       "       'disgust', 'disgust', 'disgust', 'fearful', 'calm', 'disgust',\n",
       "       'happy', 'calm', 'fearful', 'disgust', 'disgust', 'happy', 'happy',\n",
       "       'fearful', 'disgust', 'happy', 'fearful', 'disgust', 'happy',\n",
       "       'happy', 'calm', 'happy', 'calm', 'calm', 'disgust', 'calm',\n",
       "       'disgust', 'disgust', 'calm', 'happy', 'calm', 'calm', 'fearful',\n",
       "       'happy', 'happy', 'calm', 'happy', 'happy', 'fearful', 'disgust',\n",
       "       'disgust', 'disgust', 'fearful', 'calm', 'fearful', 'calm',\n",
       "       'fearful', 'disgust', 'fearful', 'calm', 'calm', 'disgust',\n",
       "       'happy', 'happy', 'fearful', 'happy', 'disgust', 'disgust', 'calm',\n",
       "       'happy', 'fearful', 'calm', 'calm', 'fearful', 'fearful',\n",
       "       'disgust', 'disgust', 'calm', 'happy', 'calm', 'disgust',\n",
       "       'fearful', 'disgust', 'fearful', 'disgust', 'disgust', 'disgust',\n",
       "       'calm', 'happy', 'happy', 'disgust', 'fearful', 'disgust', 'calm',\n",
       "       'fearful', 'disgust', 'fearful', 'calm', 'calm', 'happy', 'happy',\n",
       "       'calm', 'happy', 'fearful', 'calm', 'disgust', 'disgust', 'calm',\n",
       "       'disgust', 'fearful', 'fearful', 'fearful', 'fearful', 'disgust',\n",
       "       'fearful', 'fearful', 'calm', 'fearful', 'calm', 'disgust',\n",
       "       'disgust', 'calm', 'happy', 'calm', 'calm', 'calm', 'disgust',\n",
       "       'disgust', 'fearful', 'happy', 'fearful', 'happy', 'disgust',\n",
       "       'fearful', 'fearful', 'calm', 'disgust', 'calm', 'disgust',\n",
       "       'disgust', 'fearful', 'fearful', 'disgust', 'happy', 'happy',\n",
       "       'calm', 'calm', 'happy', 'fearful', 'happy', 'calm', 'calm',\n",
       "       'fearful', 'calm', 'disgust', 'disgust', 'fearful', 'fearful',\n",
       "       'calm', 'disgust', 'fearful', 'calm', 'calm', 'calm', 'disgust',\n",
       "       'disgust', 'calm', 'calm', 'disgust', 'fearful', 'calm', 'disgust',\n",
       "       'fearful', 'fearful', 'happy', 'fearful', 'calm', 'disgust',\n",
       "       'disgust', 'happy', 'calm', 'disgust', 'fearful', 'calm',\n",
       "       'fearful', 'happy', 'calm', 'calm', 'fearful', 'disgust', 'calm',\n",
       "       'fearful', 'happy', 'disgust', 'calm', 'calm', 'happy', 'fearful',\n",
       "       'disgust', 'fearful', 'disgust', 'happy', 'fearful', 'disgust',\n",
       "       'fearful', 'happy', 'happy', 'happy', 'happy', 'calm', 'fearful',\n",
       "       'disgust', 'fearful', 'fearful', 'disgust', 'happy', 'happy',\n",
       "       'fearful', 'happy', 'disgust', 'fearful', 'calm', 'calm', 'calm',\n",
       "       'calm', 'calm', 'happy', 'happy', 'fearful', 'happy', 'calm',\n",
       "       'disgust', 'fearful', 'happy', 'disgust', 'disgust', 'disgust',\n",
       "       'fearful', 'fearful', 'disgust', 'happy', 'calm', 'calm', 'calm',\n",
       "       'disgust', 'calm', 'disgust', 'happy', 'happy', 'disgust', 'calm',\n",
       "       'disgust', 'disgust', 'calm', 'disgust', 'disgust', 'disgust',\n",
       "       'fearful', 'fearful', 'fearful', 'disgust'], dtype='<U7')"
      ]
     },
     "execution_count": 87,
     "metadata": {},
     "output_type": "execute_result"
    }
   ],
   "source": [
    "y_pred"
   ]
  },
  {
   "cell_type": "markdown",
   "metadata": {},
   "source": [
    "Calculating the accuracy of the model"
   ]
  },
  {
   "cell_type": "code",
   "execution_count": 88,
   "metadata": {},
   "outputs": [
    {
     "name": "stdout",
     "output_type": "stream",
     "text": [
      "Accuracy: 71.88%\n"
     ]
    }
   ],
   "source": [
    "accuracy= accuracy_score(y_true=y_test, y_pred= y_pred)\n",
    "print(\"Accuracy: {:.2f}%\".format(accuracy*100))"
   ]
  },
  {
   "cell_type": "code",
   "execution_count": null,
   "metadata": {},
   "outputs": [],
   "source": []
  }
 ],
 "metadata": {
  "kernelspec": {
   "display_name": "Python 3",
   "language": "python",
   "name": "python3"
  },
  "language_info": {
   "codemirror_mode": {
    "name": "ipython",
    "version": 3
   },
   "file_extension": ".py",
   "mimetype": "text/x-python",
   "name": "python",
   "nbconvert_exporter": "python",
   "pygments_lexer": "ipython3",
   "version": "3.7.4"
  }
 },
 "nbformat": 4,
 "nbformat_minor": 2
}
